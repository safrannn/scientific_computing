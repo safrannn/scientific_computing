{
 "cells": [
  {
   "cell_type": "markdown",
   "metadata": {},
   "source": [
    "# CS565 Final Task"
   ]
  },
  {
   "cell_type": "code",
   "execution_count": 212,
   "metadata": {},
   "outputs": [
    {
     "name": "stdout",
     "output_type": "stream",
     "text": [
      "2.7.16 |Anaconda, Inc.| (default, Sep 24 2019, 16:55:38) \n",
      "[GCC 4.2.1 Compatible Clang 4.0.1 (tags/RELEASE_401/final)]\n"
     ]
    }
   ],
   "source": [
    "import sys\n",
    "print(sys.version)"
   ]
  },
  {
   "cell_type": "code",
   "execution_count": 213,
   "metadata": {},
   "outputs": [
    {
     "name": "stdout",
     "output_type": "stream",
     "text": [
      "Welcome to\n",
      "      ____              __\n",
      "     / __/__  ___ _____/ /__\n",
      "    _\\ \\/ _ \\/ _ `/ __/  '_/\n",
      "   /__ / .__/\\_,_/_/ /_/\\_\\   version 2.4.4\n",
      "      /_/\n",
      "\n",
      "Using Python version 2.7.16 (default, Sep 24 2019 16:55:38)\n",
      "SparkSession available as 'spark'.\n"
     ]
    }
   ],
   "source": [
    "import os\n",
    "exec(open(os.path.join(os.environ[\"SPARK_HOME\"], 'python/pyspark/shell.py')).read())"
   ]
  },
  {
   "cell_type": "markdown",
   "metadata": {},
   "source": [
    "### Import graphframes if not already"
   ]
  },
  {
   "cell_type": "code",
   "execution_count": 3,
   "metadata": {},
   "outputs": [],
   "source": [
    "# ! pyspark --packages graphframes:graphframes:0.5.0-spark2.1-s_2.11"
   ]
  },
  {
   "cell_type": "markdown",
   "metadata": {},
   "source": [
    "# Load the Facebook Graph into Spark"
   ]
  },
  {
   "cell_type": "code",
   "execution_count": 214,
   "metadata": {},
   "outputs": [],
   "source": [
    "from graphframes import *\n",
    "from pyspark import SparkContext, SparkConf\n",
    "from pyspark.sql import SQLContext\n",
    "from pyspark.sql.types import *\n",
    "from pyspark.sql import functions as f\n",
    "from pyspark.sql import Row\n",
    "import re\n",
    "import numpy as np"
   ]
  },
  {
   "cell_type": "code",
   "execution_count": 215,
   "metadata": {},
   "outputs": [],
   "source": [
    "sc = SparkContext.getOrCreate()\n",
    "sqlContext = SQLContext(sc)\n",
    "peopleids = [0, 107, 1684, 1912, 3437, 348, 3980, 414, 686, 698]\n",
    "featids = [\"id\", \"birthday\"]\n",
    "formatter = 'com.databricks.spark.csv'\n",
    "vtx = Row(*featids)\n",
    "\n",
    "# load the entire edge and node set into a Spark DataFrame\n",
    "edf = sqlContext.read.format(formatter).options(delimiter=' ', \\\n",
    "    header='true', inferSchema=True) \\\n",
    "    .load('facebook_combined.txt')\\\n",
    "    .withColumnRenamed('C0', 'src').withColumnRenamed('C1', 'dst')"
   ]
  },
  {
   "cell_type": "code",
   "execution_count": 216,
   "metadata": {},
   "outputs": [],
   "source": [
    "def featurematch(a, b):\n",
    "    return \"%s != 'None' and %s != 'None' and %s = %s\" % \\\n",
    "            (a, b, a, b)\n",
    "\n",
    "def fn_process(line):\n",
    "    psd = re.search(\n",
    "        r'\\d+ (.*);anonymized feature (\\d+)', line, re.IGNORECASE)\n",
    "    if not psd:\n",
    "        print (\"parse error, line: %s\") % line\n",
    "        sys.exit(1)\n",
    "    n = psd.group(1).replace(';', '_')\n",
    "    #n = re.sub('_$', '', n)\n",
    "    f = psd.group(2)\n",
    "    return (n, f)\n",
    "\n",
    "def feat_process(line, selfid):\n",
    "    allents = line.split(' ')\n",
    "    if (selfid != -1):\n",
    "        return (selfid, allents)\n",
    "    else:\n",
    "        return (allents[0], allents[1:])\n",
    "\n",
    "def get_feats(vtxid, mapping, feats):\n",
    "    thisfeats = {}\n",
    "    vtxfeats = []\n",
    "    for idx, f in enumerate(feats):\n",
    "        name, value = mapping[idx]\n",
    "        if (f == '1'):\n",
    "            thisfeats[name] = value\n",
    "        else:\n",
    "            thisfeats[name] = 'None'\n",
    "    for ff in featids[1:]:\n",
    "        vtxfeats.append(thisfeats[ff])\n",
    "    return vtx(vtxid, *vtxfeats)\n"
   ]
  },
  {
   "cell_type": "markdown",
   "metadata": {},
   "source": [
    "# Building a GraphFrame"
   ]
  },
  {
   "cell_type": "code",
   "execution_count": 217,
   "metadata": {},
   "outputs": [
    {
     "name": "stdout",
     "output_type": "stream",
     "text": [
      "rdd raw count: 4177\n",
      "vertex count: 4039\n",
      "edge count: 88234\n"
     ]
    }
   ],
   "source": [
    "alledges = sc.emptyRDD()\n",
    "for personid in peopleids:\n",
    "    featmap_fname = \"facebook/%d.featnames\" % personid\n",
    "    feats_fname = \"facebook/%d.feat\" % personid\n",
    "    this_feats_fname = \"facebook/%d.egofeat\" % personid\n",
    "\n",
    "    # load the feature map\n",
    "    fmap = []\n",
    "    with open(featmap_fname) as flines:\n",
    "        for line in flines:\n",
    "            fmap.append(fn_process(line))\n",
    "\n",
    "    # load the features for all the edges, and our own\n",
    "    f_rdd = sc.textFile(feats_fname).map(lambda x: feat_process(x, -1)). \\\n",
    "         union(sc.textFile(this_feats_fname).map(lambda x: feat_process(x, personid)))\n",
    "\n",
    "    # add the new data to the group\n",
    "    alledges = f_rdd.map(lambda x: get_feats(x[0], fmap, x[1])).union(alledges)\n",
    "\n",
    "# remove duplicates\n",
    "print (\"rdd raw count: %d\") % alledges.count()\n",
    "\n",
    "# create a GraphFrame from the result\n",
    "vdf = sqlContext.createDataFrame(alledges, featids).dropDuplicates(['id'])\n",
    "print (\"vertex count: %d\") % vdf.count()\n",
    "print (\"edge count: %d\") % edf.count()\n",
    "g = GraphFrame(vdf, edf)"
   ]
  },
  {
   "cell_type": "markdown",
   "metadata": {},
   "source": [
    "# Find most mutual friend"
   ]
  },
  {
   "cell_type": "code",
   "execution_count": 163,
   "metadata": {},
   "outputs": [
    {
     "name": "stdout",
     "output_type": "stream",
     "text": [
      "mutual friend\n",
      "+---+----+--------------+\n",
      "|aID| cID|mutual friends|\n",
      "+---+----+--------------+\n",
      "|  0| 100|             1|\n",
      "|  0|1000|             1|\n",
      "|  0|1001|             1|\n",
      "|  0|1002|             1|\n",
      "|  0|1003|             1|\n",
      "|  0|1004|             1|\n",
      "|  0|1005|             1|\n",
      "|  0|1006|             1|\n",
      "|  0|1007|             1|\n",
      "|  0|1008|             1|\n",
      "|  0|1009|             1|\n",
      "|  0| 101|             5|\n",
      "|  0|1010|             1|\n",
      "|  0|1011|             1|\n",
      "|  0|1012|             1|\n",
      "|  0|1013|             1|\n",
      "|  0|1014|             1|\n",
      "|  0|1015|             1|\n",
      "|  0|1016|             1|\n",
      "|  0|1017|             1|\n",
      "+---+----+--------------+\n",
      "only showing top 20 rows\n",
      "\n",
      "+----+--------------+\n",
      "| aID|mutual friends|\n",
      "+----+--------------+\n",
      "|   0|            65|\n",
      "|   1|             8|\n",
      "|  10|             8|\n",
      "| 100|             3|\n",
      "|1000|             7|\n",
      "|1001|            12|\n",
      "|1002|             1|\n",
      "|1003|            73|\n",
      "|1004|           104|\n",
      "|1005|            11|\n",
      "|1006|           118|\n",
      "|1007|             8|\n",
      "|1008|             2|\n",
      "|1009|            36|\n",
      "| 101|            11|\n",
      "|1010|            16|\n",
      "|1011|            18|\n",
      "|1012|            11|\n",
      "|1013|             4|\n",
      "|1014|            54|\n",
      "+----+--------------+\n",
      "only showing top 20 rows\n",
      "\n"
     ]
    }
   ],
   "source": [
    "res = g.find(\"(a)-[]->(b); (b)-[]->(c)\")\n",
    "res = res.filter(\"a.id != c.id and a.id != b.id and b.id != c.id \")\n",
    "\n",
    "# get each person's mutual friends with someone else\n",
    "res = res.groupBy(\"a.id\", \"c.id\").count()\n",
    "res = res.orderBy(\"a.id\", \"c.id\", ascending = True)\n",
    "res = res.toDF('aID', 'cID', 'mutual friends')\n",
    "res.show(20)\n",
    "\n",
    "# get max of each person's mutual friends with someone else\n",
    "res = res.groupBy(\"aID\").max(\"mutual friends\")\n",
    "res = res.orderBy(\"aID\", ascending = True)\n",
    "res = res.toDF('aID', 'mutual friends')\n",
    "res.show(20)\n"
   ]
  },
  {
   "cell_type": "markdown",
   "metadata": {},
   "source": [
    "# Create Histogram"
   ]
  },
  {
   "cell_type": "code",
   "execution_count": 251,
   "metadata": {},
   "outputs": [
    {
     "data": {
      "image/png": "[encoded data removed]",
      "text/plain": [
       "<Figure size 1080x864 with 1 Axes>"
      ]
     },
     "metadata": {
      "needs_background": "light"
     },
     "output_type": "display_data"
    }
   ],
   "source": [
    "from matplotlib import pyplot as plt\n",
    "%matplotlib inline\n",
    "\n",
    "# data for histogram\n",
    "res_array = np.array(res.select(\"mutual friends\").collect()).ravel()\n",
    "res_bins = np.linspace(0, 100, num=101)\n",
    "res_y = np.histogram(res_array, bins=res_bins)[0]\n",
    "\n",
    "# plotting\n",
    "plt.figure(figsize=(15, 12))\n",
    "plt.hist(res_array, bins = res_bins) \n",
    "plt.plot(res_bins[1:], res_y)\n",
    "plt.title(\"histogram\") \n",
    "plt.show()"
   ]
  },
  {
   "cell_type": "code",
   "execution_count": null,
   "metadata": {},
   "outputs": [],
   "source": []
  }
 ],
 "metadata": {
  "kernelspec": {
   "display_name": "Python 2",
   "language": "python",
   "name": "python2"
  },
  "language_info": {
   "codemirror_mode": {
    "name": "ipython",
    "version": 2
   },
   "file_extension": ".py",
   "mimetype": "text/x-python",
   "name": "python",
   "nbconvert_exporter": "python",
   "pygments_lexer": "ipython2",
   "version": "2.7.16"
  }
 },
 "nbformat": 4,
 "nbformat_minor": 2
}
